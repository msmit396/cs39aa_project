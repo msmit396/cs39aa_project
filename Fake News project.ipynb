{
 "cells": [
  {
   "cell_type": "markdown",
   "metadata": {},
   "source": [
    "The dataset that will be used will focus on ral and fake news. \n",
    "The focus of this program will be to look at the wording of real and fake news\n",
    "articles and determine what words are typically used in fake news articles.\n",
    "There will be two datasets used of this project: Fake.csv.\n",
    "This program will count how many times a word is used in the dataset. \n",
    "From there, the wors will be printed out with a list of the most uesd words and \n",
    "a word cloud for a visual representation. \n",
    "\n",
    "\n",
    " "
   ]
  },
  {
   "cell_type": "code",
   "execution_count": null,
   "metadata": {},
   "outputs": [],
   "source": []
  }
 ],
 "metadata": {
  "language_info": {
   "name": "python"
  },
  "orig_nbformat": 4
 },
 "nbformat": 4,
 "nbformat_minor": 2
}
